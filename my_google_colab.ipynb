{
  "nbformat": 4,
  "nbformat_minor": 0,
  "metadata": {
    "colab": {
      "name": "my_google_colab.ipynb",
      "provenance": [],
      "collapsed_sections": []
    },
    "kernelspec": {
      "name": "python3",
      "display_name": "Python 3"
    },
    "language_info": {
      "name": "python"
    }
  },
  "cells": [
    {
      "cell_type": "markdown",
      "source": [
        "# Imports"
      ],
      "metadata": {
        "id": "evWz9hc100cc"
      }
    },
    {
      "cell_type": "code",
      "source": [
        "import tensorflow as tf"
      ],
      "metadata": {
        "id": "eRhnTrwr03d0"
      },
      "execution_count": null,
      "outputs": []
    },
    {
      "cell_type": "markdown",
      "source": [
        "# Datasets in Tensorflow"
      ],
      "metadata": {
        "id": "lfJRs05cnxEW"
      }
    },
    {
      "cell_type": "markdown",
      "source": [
        "### TFRecordDataset"
      ],
      "metadata": {
        "id": "kr5v828-n9nG"
      }
    },
    {
      "cell_type": "code",
      "source": [
        "my_tfrecords_dataset = tf.data.TFRecordDataset([\"file1.tfrecords\", \"file2.tfrecords\"])"
      ],
      "metadata": {
        "id": "P_jY7jqj7pWF"
      },
      "execution_count": null,
      "outputs": []
    },
    {
      "cell_type": "markdown",
      "source": [
        "### from_tensor_slices"
      ],
      "metadata": {
        "id": "QuMhxhDjoJrz"
      }
    },
    {
      "cell_type": "code",
      "source": [
        "my_dataset = tf.data.Dataset.from_tensor_slices([2,3,6])\n",
        "my_dataset = my_dataset.map(lambda x:x+2)\n",
        "\n",
        "for datapoint in my_dataset:\n",
        "  print(datapoint)\n",
        "\n",
        "image1 = [0,0,0,0]\n",
        "image2 = [1,1,1,1]\n",
        "images = [image1, image2] \n",
        "\n",
        "y1 = 0\n",
        "y2 = 1\n",
        "labels = [y1, y2]\n",
        "\n",
        "my_dataset2 = tf.data.Dataset.from_tensor_slices((images, labels))\n",
        "\n",
        "for datapoint in my_dataset2:\n",
        "  print(datapoint)"
      ],
      "metadata": {
        "colab": {
          "base_uri": "https://localhost:8080/"
        },
        "id": "Lk_TuER3oTXp",
        "outputId": "bdc106ce-f1f1-4801-a47b-db96af048e12"
      },
      "execution_count": null,
      "outputs": [
        {
          "output_type": "stream",
          "name": "stdout",
          "text": [
            "tf.Tensor(4, shape=(), dtype=int32)\n",
            "tf.Tensor(5, shape=(), dtype=int32)\n",
            "tf.Tensor(8, shape=(), dtype=int32)\n",
            "(<tf.Tensor: shape=(4,), dtype=int32, numpy=array([0, 0, 0, 0], dtype=int32)>, <tf.Tensor: shape=(), dtype=int32, numpy=0>)\n",
            "(<tf.Tensor: shape=(4,), dtype=int32, numpy=array([1, 1, 1, 1], dtype=int32)>, <tf.Tensor: shape=(), dtype=int32, numpy=1>)\n"
          ]
        }
      ]
    },
    {
      "cell_type": "markdown",
      "source": [
        "### from_generator"
      ],
      "metadata": {
        "id": "wsHJp6j1oUfE"
      }
    },
    {
      "cell_type": "code",
      "source": [
        "my_dataset3 = tf.data.Dataset.from_generator(generator)\n",
        "#data augmentation"
      ],
      "metadata": {
        "id": "Cbwz9esvoa6q"
      },
      "execution_count": null,
      "outputs": []
    },
    {
      "cell_type": "markdown",
      "source": [
        "### tf.keras.datasets"
      ],
      "metadata": {
        "id": "SCDesHEaocMO"
      }
    },
    {
      "cell_type": "code",
      "source": [
        "my_dataset4 = tf.keras.datasets.mnist.load_data()\n",
        "\n",
        "(x_train, y_train), (x_test, y_test) = my_dataset4\n",
        "\n",
        "print(\"x_train.shape = \", x_train.shape)\n",
        "print(\"y_train.shape = \", y_train.shape)\n",
        "print(\"x_test.shape = \", x_test.shape)\n",
        "print(\"y_test.shape = \", y_test.shape)"
      ],
      "metadata": {
        "colab": {
          "base_uri": "https://localhost:8080/"
        },
        "id": "vhUBY3tjohcp",
        "outputId": "bd5de8f9-6b53-4a88-e212-5a2a48ed509f"
      },
      "execution_count": null,
      "outputs": [
        {
          "output_type": "stream",
          "name": "stdout",
          "text": [
            "Downloading data from https://storage.googleapis.com/tensorflow/tf-keras-datasets/mnist.npz\n",
            "11493376/11490434 [==============================] - 0s 0us/step\n",
            "11501568/11490434 [==============================] - 0s 0us/step\n",
            "x_train.shape =  (60000, 28, 28)\n",
            "y_train.shape =  (60000,)\n",
            "x_test.shape =  (10000, 28, 28)\n",
            "y_test.shape =  (10000,)\n"
          ]
        }
      ]
    },
    {
      "cell_type": "markdown",
      "source": [
        "# Deep Learning Layers in Tensorflow"
      ],
      "metadata": {
        "id": "6sml0dkeUGUN"
      }
    },
    {
      "cell_type": "markdown",
      "source": [
        "## Accessing keras layers"
      ],
      "metadata": {
        "id": "O8yuXauupWnj"
      }
    },
    {
      "cell_type": "code",
      "source": [
        "from tensorflow.keras.layers import Dense, Conv2D"
      ],
      "metadata": {
        "id": "wpAGFyoWpZjq"
      },
      "execution_count": null,
      "outputs": []
    },
    {
      "cell_type": "markdown",
      "source": [
        "## Input layer"
      ],
      "metadata": {
        "id": "oO1sLWyqm7Yf"
      }
    },
    {
      "cell_type": "code",
      "source": [
        "# Sequential approach --> tf.keras.layers.InputLayer\n",
        "# Functional approach --> tf.keras.Input"
      ],
      "metadata": {
        "id": "7XLK5a-em9e3"
      },
      "execution_count": null,
      "outputs": []
    },
    {
      "cell_type": "markdown",
      "source": [
        "### Dense layer"
      ],
      "metadata": {
        "id": "T0dlS7YYmWXB"
      }
    },
    {
      "cell_type": "code",
      "source": [
        "dense = tf.keras.layers.Dense(units=10, activation=\"softmax\")"
      ],
      "metadata": {
        "id": "mb6OqHcrpOQ6"
      },
      "execution_count": null,
      "outputs": []
    },
    {
      "cell_type": "markdown",
      "source": [
        "## Convolutional layer"
      ],
      "metadata": {
        "id": "vRfFwfL2mlfH"
      }
    },
    {
      "cell_type": "code",
      "source": [
        "conv2d = tf.keras.layers.Conv2D(filters=32, kernel_size=(3,3), activation=\"relu\")☻"
      ],
      "metadata": {
        "id": "BcwQF-mUmqSn"
      },
      "execution_count": null,
      "outputs": []
    },
    {
      "cell_type": "markdown",
      "source": [
        "## Pooling layers"
      ],
      "metadata": {
        "id": "ZBTQKZBJmqzi"
      }
    },
    {
      "cell_type": "code",
      "source": [
        "input = [[1.0,1.0],[1.0,1.0]]\n",
        "input = tf.reshape(input, (1,2,2,1))\n",
        "\n",
        "max_pool2d = tf.keras.layers.AvgPool2D()\n",
        "output = max_pool2d(input)\n",
        "print(output)"
      ],
      "metadata": {
        "colab": {
          "base_uri": "https://localhost:8080/"
        },
        "id": "mCWDux2Am1BJ",
        "outputId": "8c181884-246c-4c4c-82c9-d60817910791"
      },
      "execution_count": null,
      "outputs": [
        {
          "output_type": "stream",
          "name": "stdout",
          "text": [
            "tf.Tensor([[[[1.]]]], shape=(1, 1, 1, 1), dtype=float32)\n"
          ]
        }
      ]
    },
    {
      "cell_type": "markdown",
      "source": [
        "## Sequential class"
      ],
      "metadata": {
        "id": "XTEY-9ZQo1-P"
      }
    },
    {
      "cell_type": "code",
      "source": [
        "model = tf.keras.Sequential([\n",
        "            tf.keras.layers.InputLayer(input_shape=(28,28,1)),                    \n",
        "            tf.keras.layers.Conv2D(16, (5,5)),\n",
        "            tf.keras.layers.Dense(5)\n",
        "])\n",
        "\n",
        "model.add(tf.keras.layers.Dense(2))\n",
        "\n",
        "model.summary()"
      ],
      "metadata": {
        "colab": {
          "base_uri": "https://localhost:8080/"
        },
        "id": "WH93WPl-Z1Ke",
        "outputId": "15355bc8-ee14-4316-bd8c-117192467bb6"
      },
      "execution_count": null,
      "outputs": [
        {
          "output_type": "stream",
          "name": "stdout",
          "text": [
            "Model: \"sequential\"\n",
            "_________________________________________________________________\n",
            " Layer (type)                Output Shape              Param #   \n",
            "=================================================================\n",
            " conv2d (Conv2D)             (None, 24, 24, 16)        416       \n",
            "                                                                 \n",
            " dense (Dense)               (None, 24, 24, 5)         85        \n",
            "                                                                 \n",
            " dense_1 (Dense)             (None, 24, 24, 2)         12        \n",
            "                                                                 \n",
            "=================================================================\n",
            "Total params: 513\n",
            "Trainable params: 513\n",
            "Non-trainable params: 0\n",
            "_________________________________________________________________\n"
          ]
        }
      ]
    },
    {
      "cell_type": "markdown",
      "source": [
        "## Functional approach"
      ],
      "metadata": {
        "id": "4VLrOO0crC4S"
      }
    },
    {
      "cell_type": "code",
      "source": [
        "def get_model(nbr_filters=16, is_training=False):\n",
        "\n",
        "  my_input = tf.keras.Input(shape=(28,28,1))\n",
        "  my_input_2 = tf.keras.Input(shape=(100,100,1))\n",
        "\n",
        "  x = tf.keras.layers.Conv2D(nbr_filters, (5,5))(my_input)\n",
        "  x = tf.keras.layers.Dense(5)(x)\n",
        "  x = tf.keras.layers.Dense(2)(x)\n",
        "\n",
        "  model = tf.keras.Model(inputs=[my_input, my_input_2], outputs=x)\n",
        "\n",
        "  return model\n",
        "\n",
        "functional_model = get_model(32)\n",
        "\n",
        "functional_model.summary()"
      ],
      "metadata": {
        "colab": {
          "base_uri": "https://localhost:8080/"
        },
        "id": "S2FfgUP7rJhD",
        "outputId": "715ab87a-3182-481a-f9a2-d72b38cddbf7"
      },
      "execution_count": null,
      "outputs": [
        {
          "output_type": "stream",
          "name": "stdout",
          "text": [
            "Model: \"model\"\n",
            "__________________________________________________________________________________________________\n",
            " Layer (type)                   Output Shape         Param #     Connected to                     \n",
            "==================================================================================================\n",
            " input_2 (InputLayer)           [(None, 28, 28, 1)]  0           []                               \n",
            "                                                                                                  \n",
            " conv2d_1 (Conv2D)              (None, 24, 24, 32)   832         ['input_2[0][0]']                \n",
            "                                                                                                  \n",
            " dense_2 (Dense)                (None, 24, 24, 5)    165         ['conv2d_1[0][0]']               \n",
            "                                                                                                  \n",
            " input_3 (InputLayer)           [(None, 100, 100, 1  0           []                               \n",
            "                                )]                                                                \n",
            "                                                                                                  \n",
            " dense_3 (Dense)                (None, 24, 24, 2)    12          ['dense_2[0][0]']                \n",
            "                                                                                                  \n",
            "==================================================================================================\n",
            "Total params: 1,009\n",
            "Trainable params: 1,009\n",
            "Non-trainable params: 0\n",
            "__________________________________________________________________________________________________\n"
          ]
        }
      ]
    },
    {
      "cell_type": "markdown",
      "source": [
        "## Compiling a model"
      ],
      "metadata": {
        "id": "LkUKk4Sri9ji"
      }
    },
    {
      "cell_type": "code",
      "source": [
        "functional_model.compile(loss=tf.keras.losses.SparseCategoricalCrossentropy(), optimizer=tf.keras.optimizers.Adam(), metrics=tf.keras.metrics.Accuracy())"
      ],
      "metadata": {
        "id": "9z0zw0gpjArH"
      },
      "execution_count": null,
      "outputs": []
    },
    {
      "cell_type": "markdown",
      "source": [
        "## Training a model"
      ],
      "metadata": {
        "id": "arMyUKWjrea3"
      }
    },
    {
      "cell_type": "code",
      "source": [
        "functional_model.fit()"
      ],
      "metadata": {
        "id": "YQlJdTx7rhop"
      },
      "execution_count": null,
      "outputs": []
    },
    {
      "cell_type": "markdown",
      "source": [
        "## Making predictions with your model"
      ],
      "metadata": {
        "id": "g11ldFyZZbPe"
      }
    },
    {
      "cell_type": "code",
      "source": [
        "# https://www.tensorflow.org/api_docs/python/tf/keras/Model#predict\n",
        "functional_model(x, is_training=False)\n",
        "functional_model.predict(x)"
      ],
      "metadata": {
        "id": "1aB0tRPfZfQ6"
      },
      "execution_count": null,
      "outputs": []
    },
    {
      "cell_type": "markdown",
      "source": [
        "## Model regularization"
      ],
      "metadata": {
        "id": "aNSvEG5lhj9e"
      }
    },
    {
      "cell_type": "markdown",
      "source": [
        "### Data augmentation using tensorflow layers"
      ],
      "metadata": {
        "id": "G8oRjXGNkiDi"
      }
    },
    {
      "cell_type": "code",
      "source": [
        "def get_model(nbr_filters=16, is_training=False):\n",
        "\n",
        "  my_input = tf.keras.Input(shape=(28,28,1))\n",
        "  x = tf.keras.layers.Rescaling(scale=1./255)(my_input)\n",
        "\n",
        "  if is_training:\n",
        "    x = tf.keras.layers.RandomContrast(0.6)(x)\n",
        "\n",
        "  x = tf.keras.layers.Conv2D(nbr_filters, (5,5))(my_input)\n",
        "  x = tf.keras.layers.Dense(5)(x)\n",
        "  x = tf.keras.layers.Dense(2)(x)\n",
        "\n",
        "  model = tf.keras.Model(inputs=my_input, outputs=x)\n",
        "\n",
        "  return model"
      ],
      "metadata": {
        "id": "BhiIWIsteMJ0"
      },
      "execution_count": null,
      "outputs": []
    },
    {
      "cell_type": "markdown",
      "source": [
        "## Data augmentation using tf.image "
      ],
      "metadata": {
        "id": "FlNpL7n-o9aq"
      }
    },
    {
      "cell_type": "code",
      "source": [
        "IMG_SIZE = 32\n",
        "\n",
        "# create a function that does augmentation\n",
        "def augment(image, label):\n",
        "\n",
        "  image = tf.cast(image, tf.float32)\n",
        "  image = tf.image.resize(image, [IMG_SIZE,IMG_SIZE])\n",
        "  image = (image/255.0)\n",
        "\n",
        "  return image, label\n",
        "\n",
        "# pass that function to your data inside .map method\n",
        "my_dataset2 = (\n",
        "    my_dataset2.map(augment)\n",
        "    .batch(16)\n",
        ")\n",
        "\n"
      ],
      "metadata": {
        "id": "8RpBzjBjop5q"
      },
      "execution_count": null,
      "outputs": []
    },
    {
      "cell_type": "markdown",
      "source": [
        "## Data augmentation using generators"
      ],
      "metadata": {
        "id": "j0U5_PuMpCRf"
      }
    },
    {
      "cell_type": "code",
      "source": [
        "from tf.keras.preprocessing.image import ImageDateGenerator\n",
        "\n",
        "train_augmentor = ImageDateGenerator(\n",
        "    rescale=1./255,\n",
        "    zoom_range=0.2,\n",
        "    horizontal_flip=True\n",
        ")\n",
        "\n",
        "train_generator = train_augmentor.flow_from_directory(\n",
        "    'data/images'\n",
        ")"
      ],
      "metadata": {
        "id": "DIWg7pK7pFvG"
      },
      "execution_count": null,
      "outputs": []
    },
    {
      "cell_type": "markdown",
      "source": [
        "### Regularization using Dropout layer"
      ],
      "metadata": {
        "id": "IlFFR2-MtxPm"
      }
    },
    {
      "cell_type": "code",
      "source": [
        "def get_model(nbr_filters=16, is_training=False):\n",
        "\n",
        "  my_input = tf.keras.Input(shape=(28,28,1))\n",
        "\n",
        "  x = tf.keras.layers.Conv2D(nbr_filters, (5,5))(my_input)\n",
        "\n",
        "  if is_training:\n",
        "    x = tf.keras.layers.Dropout(0.25)(x)\n",
        "\n",
        "  x = tf.keras.layers.Dense(5)(x)\n",
        "  x = tf.keras.layers.Dense(2)(x)\n",
        "\n",
        "  model = tf.keras.Model(inputs=my_input, outputs=x)\n",
        "\n",
        "  return model"
      ],
      "metadata": {
        "id": "VV2GfVNDt1B8"
      },
      "execution_count": null,
      "outputs": []
    },
    {
      "cell_type": "markdown",
      "source": [
        "## Batch normalization"
      ],
      "metadata": {
        "id": "ENXa4ePS3y_5"
      }
    },
    {
      "cell_type": "code",
      "source": [
        "def get_model(nbr_filters=16, is_training=False):\n",
        "\n",
        "  my_input = tf.keras.Input(shape=(28,28,1))\n",
        "\n",
        "  x = tf.keras.layers.Conv2D(nbr_filters, (5,5))(my_input)\n",
        "  x = tf.keras.layers.BatchNormalization()(x)\n",
        "\n",
        "  x = tf.keras.layers.Dense(5)(x)\n",
        "  x = tf.keras.layers.BatchNormalization()(x)\n",
        "\n",
        "  x = tf.keras.layers.Dense(2)(x)\n",
        "\n",
        "  model = tf.keras.Model(inputs=my_input, outputs=x)\n",
        "\n",
        "  return model"
      ],
      "metadata": {
        "id": "64QOx1bX31Rn"
      },
      "execution_count": null,
      "outputs": []
    },
    {
      "cell_type": "markdown",
      "source": [
        "## Callbacks"
      ],
      "metadata": {
        "id": "65M_1L1p96Je"
      }
    },
    {
      "cell_type": "code",
      "source": [
        "from tf.keras.callbacks import ModelCheckpoint, LearningRateScheduler, Tensorboard\n",
        "\n",
        "model_ckpt_callback = ModelCheckpoint(\n",
        "    filepath=\"/data/models\",\n",
        "    save_weights_only=True,\n",
        "    monitor=\"val_accuracy\",\n",
        "    mode=\"max\",\n",
        "    save_best_only=True\n",
        ")\n",
        "\n",
        "my_model = get_model()\n",
        "\n",
        "my_model.fit(\n",
        "    # dataset,\n",
        "    # other params,\n",
        "    callbacks=[model_ckpt_callback]\n",
        ")\n",
        "\n",
        "my_model.evaluate()\n",
        "\n",
        "my_model.predict()"
      ],
      "metadata": {
        "id": "FCqFpK0Q97p6"
      },
      "execution_count": null,
      "outputs": []
    },
    {
      "cell_type": "markdown",
      "source": [
        "## Saving and loading Tensorflow models"
      ],
      "metadata": {
        "id": "zmdrJRyE9i5m"
      }
    },
    {
      "cell_type": "markdown",
      "source": [
        "### Saving models using callbacks"
      ],
      "metadata": {
        "id": "wm3pdFAp9oRl"
      }
    },
    {
      "cell_type": "code",
      "source": [
        "from tf.keras.callbacks import ModelCheckpoint\n",
        "\n",
        "model_ckpt_callback = ModelCheckpoint(\n",
        "    filepath=\"/data/models\",\n",
        "    save_weights_only=False,\n",
        "    monitor=\"val_accuracy\",\n",
        "    mode=\"max\",\n",
        "    save_best_only=True\n",
        ")\n",
        "\n",
        "my_model = tf.keras.models.load_model(\"/data/models\")\n",
        "\n",
        "my_model(x)\n",
        "\n"
      ],
      "metadata": {
        "id": "HWhwPo6kmrHR"
      },
      "execution_count": null,
      "outputs": []
    },
    {
      "cell_type": "markdown",
      "source": [
        "### Saving and loading model weights using save_weights method"
      ],
      "metadata": {
        "id": "40wYnUVfARlK"
      }
    },
    {
      "cell_type": "code",
      "source": [
        "my_model = get_model()\n",
        "\n",
        "my_model.fit(\n",
        "    # dataset,\n",
        "    # other params\n",
        "    )\n",
        "\n",
        "my_model.save_weights(\"/data/models_weights\")\n",
        "\n",
        "# Loading your model\n",
        "my_model = get_model()\n",
        "my_model.load_weights(\"/data/models_weights\")\n",
        "\n",
        "\n"
      ],
      "metadata": {
        "id": "utOHlyS2AWPU"
      },
      "execution_count": null,
      "outputs": []
    },
    {
      "cell_type": "markdown",
      "source": [
        "### Saving and loading entire Tensorflow models manually"
      ],
      "metadata": {
        "id": "x-L6ys-xDJHP"
      }
    },
    {
      "cell_type": "code",
      "source": [
        "my_model = get_model()\n",
        "\n",
        "my_model.fit(\n",
        "    # dataset,\n",
        "    # other params\n",
        "    )\n",
        "\n",
        "my_model.save(\"/data/entire_model\")\n",
        "\n",
        "# Load your model\n",
        "my_model = tf.keras.models.load_model(\"/data/entire_model\")\n",
        "my_model(x)"
      ],
      "metadata": {
        "id": "QYNiXlQ1DN7C"
      },
      "execution_count": null,
      "outputs": []
    }
  ]
}