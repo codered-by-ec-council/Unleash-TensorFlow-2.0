{
  "nbformat": 4,
  "nbformat_minor": 0,
  "metadata": {
    "colab": {
      "name": "deep_learning_for_tumour_recognition.ipynb",
      "provenance": []
    },
    "kernelspec": {
      "name": "python3",
      "display_name": "Python 3"
    },
    "language_info": {
      "name": "python"
    }
  },
  "cells": [
    {
      "cell_type": "markdown",
      "source": [
        "## Download data from [here](https://www.kaggle.com/datasets/masoudnickparvar/brain-tumor-mri-dataset)"
      ],
      "metadata": {
        "id": "mFBoHytQ_XfH"
      }
    },
    {
      "cell_type": "code",
      "source": [
        "from google.colab import drive\n",
        "drive.mount('/content/drive')"
      ],
      "metadata": {
        "colab": {
          "base_uri": "https://localhost:8080/"
        },
        "id": "tiJKkIX4D6VJ",
        "outputId": "a7fb7152-a430-4281-ba69-ce339a6465d5"
      },
      "execution_count": null,
      "outputs": [
        {
          "output_type": "stream",
          "name": "stdout",
          "text": [
            "Mounted at /content/drive\n"
          ]
        }
      ]
    },
    {
      "cell_type": "code",
      "source": [
        "import tensorflow as tf\n",
        "from tensorflow.keras.preprocessing.image import ImageDataGenerator"
      ],
      "metadata": {
        "id": "0yisDrAi_Et3"
      },
      "execution_count": null,
      "outputs": []
    },
    {
      "cell_type": "code",
      "source": [
        "def create_generators(batch_size, train_data_path, val_data_path):\n",
        "\n",
        "  train_preprocessor = ImageDataGenerator(\n",
        "      rescale= 1 / 255.,\n",
        "      rotation_range=10,\n",
        "      width_shift_range=0.1,\n",
        "  )\n",
        "\n",
        "  val_preprocessor = ImageDataGenerator(\n",
        "      rescale=1/255.\n",
        "  )\n",
        "\n",
        "  train_generator = train_preprocessor.flow_from_directory(\n",
        "      train_data_path,\n",
        "      class_mode=\"categorical\",\n",
        "      target_size=(512,512),\n",
        "      color_mode='rgb',\n",
        "      shuffle=True,\n",
        "      batch_size=batch_size\n",
        "  )\n",
        "\n",
        "  val_generator = val_preprocessor.flow_from_directory(\n",
        "        val_data_path,\n",
        "        class_mode=\"categorical\",\n",
        "        target_size=(512,512),\n",
        "        color_mode=\"rgb\",\n",
        "        shuffle=False,\n",
        "        batch_size=batch_size,\n",
        "    )\n",
        "  \n",
        "  return train_generator, val_generator"
      ],
      "metadata": {
        "id": "SJxc1h9EGYv8"
      },
      "execution_count": null,
      "outputs": []
    },
    {
      "cell_type": "code",
      "source": [
        "path_to_train = \"/content/drive/MyDrive/Colab Notebooks/data/Brain_tumor_MRI/Training\"\n",
        "path_to_val = \"/content/drive/MyDrive/Colab Notebooks/data/Brain_tumor_MRI/Testing\"\n",
        "\n",
        "batch_size = 16\n",
        "\n",
        "train_generator, val_generator = create_generators(batch_size, path_to_train, path_to_val)\n",
        "nbr_classes = train_generator.num_classes\n",
        "\n",
        "print(\"Number of classes inside the dataset is : \", nbr_classes)"
      ],
      "metadata": {
        "colab": {
          "base_uri": "https://localhost:8080/"
        },
        "id": "PNKZh2CGJn8D",
        "outputId": "ffb53240-4c52-40a8-ed5e-aa6e4736e25a"
      },
      "execution_count": null,
      "outputs": [
        {
          "output_type": "stream",
          "name": "stdout",
          "text": [
            "Found 5712 images belonging to 4 classes.\n",
            "Found 1311 images belonging to 4 classes.\n",
            "Number of classes inside the dataset is :  4\n"
          ]
        }
      ]
    },
    {
      "cell_type": "code",
      "source": [
        "from tensorflow.keras.layers import Conv2D, Input, Dense, MaxPool2D, BatchNormalization, GlobalAvgPool2D\n",
        "from tensorflow.keras import Model\n",
        "\n",
        "def get_model(number_classes):\n",
        "\n",
        "  my_input = Input(shape=(512,512,3))\n",
        "\n",
        "  x = Conv2D(32, (3,3), activation=\"relu\")(my_input)\n",
        "  x = MaxPool2D()(x)\n",
        "  x = BatchNormalization()(x)\n",
        "\n",
        "  x = Conv2D(64, (3,3), activation=\"relu\")(my_input)\n",
        "  x = MaxPool2D()(x)\n",
        "  x = BatchNormalization()(x)\n",
        "\n",
        "  x = Conv2D(128, (3,3), activation=\"relu\")(my_input)\n",
        "  x = MaxPool2D()(x)\n",
        "  x = BatchNormalization()(x)\n",
        "\n",
        "  x = GlobalAvgPool2D()(x)\n",
        "  x = Dense(128, activation=\"relu\")(x)\n",
        "  x = Dense(number_classes, activation=\"softmax\")(x) # probabilities\n",
        "\n",
        "  return Model(inputs=my_input, outputs=x)\n"
      ],
      "metadata": {
        "id": "e9NaIUewKMuV"
      },
      "execution_count": null,
      "outputs": []
    },
    {
      "cell_type": "code",
      "source": [
        "from tensorflow.keras.callbacks import ModelCheckpoint, EarlyStopping\n",
        "\n",
        "path_to_save_model = \"/content/drive/MyDrive/Colab Notebooks/data/Models\"\n",
        "ckpt_saver = ModelCheckpoint(\n",
        "    path_to_save_model, \n",
        "    monitor=\"val_accuracy\",\n",
        "    mode=\"max\",\n",
        "    save_best_only=True,\n",
        "    save_freq=\"epoch\",\n",
        "    verbose=1\n",
        ")\n",
        "\n",
        "early_stop = EarlyStopping(monitor=\"val_accuracy\", patience=10)"
      ],
      "metadata": {
        "id": "IyRLnoq4r_NS"
      },
      "execution_count": null,
      "outputs": []
    },
    {
      "cell_type": "code",
      "source": [
        "epochs = 20\n",
        "lr = 0.0001\n",
        "CONTINUE_FROM_LAST_MODEL = False\n",
        "\n",
        "if CONTINUE_FROM_LAST_MODEL:\n",
        "  model = tf.keras.models.load_model(path_to_save_model)\n",
        "else:\n",
        "  model = get_model(number_classes=nbr_classes)\n",
        "\n",
        "optimizer = tf.keras.optimizers.Adam(learning_rate=lr, amsgrad=True)\n",
        "\n",
        "model.compile(optimizer=optimizer, loss=\"categorical_crossentropy\", metrics=['accuracy'])\n",
        "\n",
        "history = model.fit(\n",
        "    train_generator,\n",
        "    batch_size=batch_size,\n",
        "    validation_data=val_generator,\n",
        "    callbacks=[ckpt_saver, early_stop]\n",
        ")"
      ],
      "metadata": {
        "id": "Za9VDj7UpBkh"
      },
      "execution_count": null,
      "outputs": []
    },
    {
      "cell_type": "markdown",
      "source": [
        "## Evaluating the model"
      ],
      "metadata": {
        "id": "pTWqqskOzS-5"
      }
    },
    {
      "cell_type": "code",
      "source": [
        "model = tf.keras.models.load_model(path_to_save_model)\n",
        "\n",
        "# Evaluate on the validation set\n",
        "loss_value, accuracy = model.evaluate(val_generator)\n",
        "print(\"val_loss : \", loss_value)\n",
        "print(\"accuracy : {}%\".format(accuracy * 100))\n",
        "\n",
        "# Evaluate on the training set\n",
        "loss_value, accuracy = model.evaluate(train_generator)\n",
        "print(\"val_loss : \", loss_value)\n",
        "print(\"accuracy : {}%\".format(accuracy * 100))"
      ],
      "metadata": {
        "colab": {
          "base_uri": "https://localhost:8080/"
        },
        "id": "LBlsOMTUxdQ8",
        "outputId": "7a3f50b8-0675-4abe-de3c-fc5412ae194b"
      },
      "execution_count": null,
      "outputs": [
        {
          "output_type": "stream",
          "name": "stdout",
          "text": [
            "82/82 [==============================] - 173s 2s/step - loss: 0.5357 - accuracy: 0.8070\n",
            "val_loss :  0.5357498526573181\n",
            "accuracy : 80.70175647735596%\n",
            "357/357 [==============================] - 1859s 5s/step - loss: 0.3259 - accuracy: 0.8922\n",
            "val_loss :  0.3258569538593292\n",
            "accuracy : 89.21568393707275%\n"
          ]
        }
      ]
    },
    {
      "cell_type": "markdown",
      "source": [
        "## Using our model to predict on single images"
      ],
      "metadata": {
        "id": "Qj4Ih6kn-lBW"
      }
    },
    {
      "cell_type": "code",
      "source": [
        "image_path = \"/content/drive/MyDrive/Colab Notebooks/data/Brain_tumor_MRI/Testing/glioma/Te-gl_0062.jpg\"\n",
        "\n",
        "image = tf.keras.utils.load_img(image_path, target_size=(512,512))\n",
        "image = tf.cast(tf.keras.utils.img_to_array(image), dtype=tf.float32) / 255.\n",
        "image = tf.expand_dims(image, axis=0) # (512,512,3) ==> (1,512,512,3)\n",
        "\n",
        "result = model(image)\n",
        "print(result[0])\n",
        "print(train_generator.class_indices)"
      ],
      "metadata": {
        "colab": {
          "base_uri": "https://localhost:8080/"
        },
        "id": "b04YlNXX-ldg",
        "outputId": "2e5b0076-1268-4910-a4ed-bec403988fbe"
      },
      "execution_count": null,
      "outputs": [
        {
          "output_type": "stream",
          "name": "stdout",
          "text": [
            "tf.Tensor([0.9901787  0.00315967 0.00167303 0.00498859], shape=(4,), dtype=float32)\n",
            "{'glioma': 0, 'meningioma': 1, 'notumor': 2, 'pituitary': 3}\n"
          ]
        }
      ]
    },
    {
      "cell_type": "code",
      "source": [
        ""
      ],
      "metadata": {
        "id": "qx0NES68Az7o"
      },
      "execution_count": null,
      "outputs": []
    }
  ]
}